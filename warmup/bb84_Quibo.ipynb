{
 "cells": [
  {
   "cell_type": "code",
   "execution_count": 1,
   "metadata": {},
   "outputs": [],
   "source": [
    "from qibo.models import Circuit\n",
    "from qibo import gates\n",
    "import numpy as np\n",
    "import qibo as qb"
   ]
  },
  {
   "cell_type": "code",
   "execution_count": 2,
   "metadata": {},
   "outputs": [],
   "source": [
    "#build circuit\n",
    "\n",
    "c = Circuit(1)\n",
    "c.add(gates.H(0))\n",
    "c.add(gates.M(0))"
   ]
  },
  {
   "cell_type": "code",
   "execution_count": 3,
   "metadata": {},
   "outputs": [
    {
     "name": "stdout",
     "output_type": "stream",
     "text": [
      "Counter({'1': 55, '0': 45})\n",
      "[0, 0, 0, 0, 0, 1, 0, 0, 0, 1, 0, 1, 0, 1, 0, 0, 1, 1, 1, 0, 1, 0, 1, 1, 1, 1, 0, 1, 0, 1, 0, 0, 1, 1, 0, 1, 1, 1, 1, 1, 0, 1, 1, 1, 1, 1, 0, 1, 0, 1, 1, 1, 0, 0, 0, 0, 0, 0, 1, 0, 0, 1, 1, 1, 0, 1, 1, 1, 0, 1, 1, 1, 1, 1, 0, 1, 0, 1, 1, 0, 1, 1, 1, 0, 0, 0, 0, 1, 0, 0, 1, 0, 1, 1, 1, 0, 0, 0, 1, 1]\n"
     ]
    }
   ],
   "source": [
    "# Alice generates n random bits (some of these bits will form the key)\n",
    "n = 100 # Number of bits that we are going to use\n",
    "measure = c(nshots=n)\n",
    "print(measure.frequencies())\n",
    "samp=measure.samples().numpy()\n",
    "bits_alice=[]\n",
    "for i in range (n):\n",
    "    bits_alice.append(samp[i].item())\n",
    "\n",
    "print(bits_alice)"
   ]
  },
  {
   "cell_type": "code",
   "execution_count": 4,
   "metadata": {},
   "outputs": [
    {
     "name": "stdout",
     "output_type": "stream",
     "text": [
      "Counter({'0': 56, '1': 44})\n",
      "[0, 0, 0, 0, 0, 1, 1, 0, 1, 0, 0, 0, 0, 0, 1, 0, 1, 1, 1, 0, 0, 1, 1, 0, 0, 1, 1, 1, 1, 0, 1, 0, 0, 0, 0, 0, 0, 1, 1, 0, 0, 1, 1, 1, 0, 0, 1, 1, 1, 0, 0, 1, 0, 1, 0, 1, 0, 1, 0, 0, 0, 0, 1, 0, 0, 1, 0, 1, 0, 1, 1, 1, 0, 0, 0, 1, 0, 1, 0, 0, 1, 1, 0, 0, 1, 1, 1, 0, 0, 1, 0, 1, 1, 0, 1, 0, 1, 0, 0, 0]\n"
     ]
    }
   ],
   "source": [
    "# Alice randomly chooses the bases in which she is going to measure\n",
    "\n",
    "measure = c(nshots=n)\n",
    "print(measure.frequencies())\n",
    "samp=measure.samples().numpy()\n",
    "basis_alice=[]\n",
    "for i in range (n):\n",
    "    basis_alice.append(samp[i].item())\n",
    "print(basis_alice)"
   ]
  },
  {
   "cell_type": "code",
   "execution_count": 5,
   "metadata": {},
   "outputs": [
    {
     "name": "stdout",
     "output_type": "stream",
     "text": [
      "Counter({'0': 53, '1': 47})\n",
      "[1, 0, 0, 1, 1, 0, 0, 1, 0, 0, 1, 1, 0, 0, 1, 1, 1, 1, 1, 0, 0, 0, 0, 1, 1, 1, 1, 0, 0, 1, 1, 0, 0, 1, 1, 0, 1, 1, 1, 0, 0, 0, 1, 0, 0, 0, 0, 0, 0, 0, 0, 1, 1, 1, 1, 0, 1, 1, 1, 0, 1, 0, 0, 0, 1, 1, 1, 1, 0, 1, 1, 1, 1, 0, 0, 0, 0, 0, 0, 0, 0, 1, 1, 0, 0, 0, 1, 0, 0, 1, 1, 1, 0, 0, 0, 1, 0, 0, 1, 0]\n"
     ]
    }
   ],
   "source": [
    "# Bob also chooses at random the bases in which he will measure\n",
    "measure = c(nshots=n)\n",
    "print(measure.frequencies())\n",
    "samp=measure.samples().numpy()\n",
    "basis_bob=[]\n",
    "for i in range (n):\n",
    "    basis_bob.append(samp[i].item())\n",
    "\n",
    "print(basis_bob)"
   ]
  },
  {
   "cell_type": "code",
   "execution_count": 8,
   "metadata": {},
   "outputs": [
    {
     "name": "stdout",
     "output_type": "stream",
     "text": [
      "[0, 0, 0, 0, 1, 1, 0, 0, 1, 1, 0, 1, 0, 1, 0, 0, 1, 1, 1, 0, 1, 0, 0, 0, 1, 1, 0, 1, 1, 0, 0, 0, 1, 1, 0, 1, 1, 1, 1, 1, 0, 0, 1, 0, 1, 1, 1, 0, 0, 1, 1, 1, 0, 0, 0, 0, 0, 0, 0, 0, 0, 1, 1, 1, 0, 1, 1, 1, 0, 1, 1, 1, 0, 1, 0, 1, 0, 1, 1, 0, 0, 1, 1, 0, 1, 0, 0, 1, 0, 0, 1, 0, 1, 1, 1, 1, 1, 0, 0, 1]\n"
     ]
    }
   ],
   "source": [
    "# Now, Alice codes each bit of her initial string as a qubit and sends it to Bob, who measures in his basis\n",
    "bits_bob = []\n",
    "\n",
    "\n",
    "for i in range(n):\n",
    "    circ_send = Circuit(1)\n",
    "    if bits_alice[i]:  # if the bit to sent is 1\n",
    "        circ_send.add(gates.X(0)) #create right bit\n",
    "    if basis_alice[i]: # if the basis=1 Alice codes in basis |+>, |->\n",
    "        circ_send.add(gates.H(0)) \n",
    "      \n",
    "    # Alice sends the qubit to Bob and he measures \n",
    "    if basis_bob[i]: # Bob has to measure in basis |+>, |->\n",
    "        circ_send.add(gates.H(0))\n",
    "\n",
    "    circ_send.add(gates.M(0))\n",
    "    samp=circ_send(nshots=1).samples()\n",
    "\n",
    "    bits_bob.append(samp.numpy().item())\n",
    "    #print(circ_send.summary())\n",
    "print(bits_bob)\n"
   ]
  },
  {
   "cell_type": "code",
   "execution_count": 9,
   "metadata": {},
   "outputs": [
    {
     "name": "stdout",
     "output_type": "stream",
     "text": [
      "Key length 53\n",
      "[0, 0, 1, 0, 1, 0, 1, 1, 1, 0, 1, 1, 0, 0, 0, 1, 1, 1, 1, 1, 0, 1, 1, 1, 1, 1, 1, 0, 0, 0, 1, 1, 1, 1, 0, 1, 1, 1, 1, 0, 0, 1, 0, 1, 0, 0, 1, 0, 0, 0, 1, 0, 1]\n"
     ]
    }
   ],
   "source": [
    "# Bob tells Alice the basis he used for his measurements \n",
    "# Alice confirms which of the basis are correct\n",
    "key = []\n",
    "for i in range(n):\n",
    "    if basis_alice[i] == basis_bob[i]:\n",
    "        key.append(bits_bob[i])\n",
    "        \n",
    "print(\"Key length\", len(key))\n",
    "print(key)\n",
    "#if bob uses the same basis as alice, he gets the same bit"
   ]
  },
  {
   "cell_type": "code",
   "execution_count": null,
   "metadata": {},
   "outputs": [],
   "source": []
  }
 ],
 "metadata": {
  "kernelspec": {
   "display_name": "Python 3",
   "language": "python",
   "name": "python3"
  },
  "language_info": {
   "codemirror_mode": {
    "name": "ipython",
    "version": 3
   },
   "file_extension": ".py",
   "mimetype": "text/x-python",
   "name": "python",
   "nbconvert_exporter": "python",
   "pygments_lexer": "ipython3",
   "version": "3.8.5"
  }
 },
 "nbformat": 4,
 "nbformat_minor": 4
}
