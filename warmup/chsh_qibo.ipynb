{
 "cells": [
  {
   "cell_type": "code",
   "execution_count": 2,
   "metadata": {},
   "outputs": [],
   "source": [
    "from qibo.models import Circuit\n",
    "from qibo import gates\n",
    "import numpy as np\n",
    "import qibo as qb"
   ]
  },
  {
   "cell_type": "code",
   "execution_count": 3,
   "metadata": {},
   "outputs": [],
   "source": [
    "#Function to create the circuits for the CHSH game\n",
    "\n",
    "def CHSH_circuit(x,y,a0=0,a1=np.pi/2,b0=np.pi/4,b1=-np.pi/4):\n",
    "    \n",
    "    #x: bit received by Alice\n",
    "    #y: bit received by Bob\n",
    "    #a0: measure angle used by Alice when she receives 0\n",
    "    #a1: measure angle used by Alice when she receives 1\n",
    "    #b0: measure angle used by Bob when he receives 0\n",
    "    #b1: measure angle used by Bob when he receives 1\n",
    "    \n",
    "    circ = Circuit(2)\n",
    "    \n",
    "    circ.add(gates.H(0))     #create a Bell state\n",
    "    circ.add(gates.CNOT(0,1))\n",
    "\n",
    "    #apply rotations for Alice and Bob depending on the bits they have received \n",
    "    if(x==0):\n",
    "         circ.add(gates.RY(0,a0))\n",
    "    else:\n",
    "         circ.add(gates.RY(0,a1))\n",
    "\n",
    "    if(y==0):\n",
    "         circ.add(gates.RY(1,b0))\n",
    "    else:\n",
    "         circ.add(gates.RY(1,b1))\n",
    "\n",
    "    circ.add(gates.M(0, 1))#We measure \n",
    "\n",
    "    return circ"
   ]
  },
  {
   "cell_type": "code",
   "execution_count": 4,
   "metadata": {},
   "outputs": [
    {
     "name": "stdout",
     "output_type": "stream",
     "text": [
      " x = 0  y = 0  : Counter({'00': 451, '11': 410, '10': 70, '01': 69}) \n",
      "\n",
      " x = 0  y = 1  : Counter({'00': 426, '11': 416, '01': 85, '10': 73}) \n",
      "\n",
      " x = 1  y = 0  : Counter({'00': 426, '11': 418, '10': 82, '01': 74}) \n",
      "\n",
      " x = 1  y = 1  : Counter({'01': 458, '10': 423, '00': 64, '11': 55}) \n",
      "\n"
     ]
    }
   ],
   "source": [
    "total = 0\n",
    "i=0\n",
    "j=0\n",
    "#print\n",
    "for k in range(4):\n",
    "    circuits = CHSH_circuit(i,j) #create a circuit given x and y\n",
    "    results = circuits(nshots=1000)\n",
    "    print(' x =', i, ' y =', j,' :' ,results.frequencies(), '\\n')\n",
    "    j+=1\n",
    "    if (j==2):\n",
    "        i=1\n",
    "        j=0\n",
    "    "
   ]
  },
  {
   "cell_type": "markdown",
   "metadata": {},
   "source": [
    "bob and alice win if $$ xy=a \\oplus b $$\n",
    "x=0,y=0 $\\rightarrow $ '00', '11'\n",
    "\n",
    "x=0,y=1 $\\rightarrow $ '00', '11'\n",
    "\n",
    "x=1,y=0 $\\rightarrow $ '00', '11'\n",
    "\n",
    "x=1,y=1 $\\rightarrow $ '01', '10'\n",
    "\n",
    "\\appro"
   ]
  },
  {
   "cell_type": "code",
   "execution_count": null,
   "metadata": {},
   "outputs": [],
   "source": []
  }
 ],
 "metadata": {
  "kernelspec": {
   "display_name": "Python 3",
   "language": "python",
   "name": "python3"
  },
  "language_info": {
   "codemirror_mode": {
    "name": "ipython",
    "version": 3
   },
   "file_extension": ".py",
   "mimetype": "text/x-python",
   "name": "python",
   "nbconvert_exporter": "python",
   "pygments_lexer": "ipython3",
   "version": "3.8.5"
  }
 },
 "nbformat": 4,
 "nbformat_minor": 4
}
